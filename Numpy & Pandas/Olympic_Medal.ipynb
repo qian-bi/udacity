{
 "cells": [
  {
   "cell_type": "code",
   "execution_count": 1,
   "metadata": {
    "collapsed": true
   },
   "outputs": [],
   "source": [
    "import numpy as np\n",
    "import pandas as pd"
   ]
  },
  {
   "cell_type": "code",
   "execution_count": 12,
   "metadata": {},
   "outputs": [
    {
     "name": "stdout",
     "output_type": "stream",
     "text": [
      "    bronze       countries  gold  silver\n",
      "0        9     Russian Fed    13      11\n",
      "1       10          Norway    11       5\n",
      "2        5          Canada    10      10\n",
      "3       12   United States     9       7\n",
      "4        9     Netherlands     8       7\n",
      "5        5         Germany     8       6\n",
      "6        2     Switzerland     6       3\n",
      "7        1         Belarus     5       0\n",
      "8        5         Austria     4       8\n",
      "9        7          France     4       4\n",
      "10       1          Poland     4       1\n",
      "11       2           China     3       4\n",
      "12       2           Korea     3       3\n",
      "13       6          Sweden     2       7\n",
      "14       2  Czech Republic     2       4\n",
      "15       4        Slovenia     2       2\n",
      "16       3           Japan     1       4\n",
      "17       1         Finland     1       3\n",
      "18       2   Great Britain     1       1\n",
      "19       1         Ukraine     1       0\n",
      "20       0        Slovakia     1       0\n",
      "21       6           Italy     0       2\n",
      "22       2          Latvia     0       2\n",
      "23       1       Australia     0       2\n",
      "24       0         Croatia     0       1\n",
      "25       1      Kazakhstan     0       0\n"
     ]
    }
   ],
   "source": [
    "countries = ['Russian Fed', 'Norway', 'Canada', 'United States',\n",
    "             'Netherlands', 'Germany', 'Switzerland', 'Belarus',\n",
    "             'Austria', 'France', 'Poland', 'China', 'Korea',\n",
    "             'Sweden', 'Czech Republic', 'Slovenia', 'Japan',\n",
    "             'Finland', 'Great Britain', 'Ukraine', 'Slovakia',\n",
    "             'Italy', 'Latvia', 'Australia', 'Croatia', 'Kazakhstan']\n",
    "gold = [13, 11, 10, 9, 8, 8, 6, 5, 4, 4, 4, 3, 3, 2, 2, 2, 1, 1, 1, 1, 1, 0, 0, 0, 0, 0]\n",
    "silver = [11, 5, 10, 7, 7, 6, 3, 0, 8, 4, 1, 4, 3, 7, 4, 2, 4, 3, 1, 0, 0, 2, 2, 2, 1, 0]\n",
    "bronze = [9, 10, 5, 12, 9, 5, 2, 1, 5, 7, 1, 2, 2, 6, 2, 4, 3, 1, 2, 1, 0, 6, 2, 1, 0, 1]\n",
    "olympic_medal = pd.DataFrame({'countries': countries, 'gold': gold, 'silver': silver, 'bronze': bronze})\n",
    "print(olympic_medal)"
   ]
  },
  {
   "cell_type": "code",
   "execution_count": 7,
   "metadata": {},
   "outputs": [
    {
     "name": "stdout",
     "output_type": "stream",
     "text": [
      "4.238095238095238\n"
     ]
    }
   ],
   "source": [
    "avg_bronze_at_least_one_gold = olympic_medal.bronze[olympic_medal.gold > 0].mean()\n",
    "print(avg_bronze_at_least_one_gold)"
   ]
  },
  {
   "cell_type": "code",
   "execution_count": 6,
   "metadata": {},
   "outputs": [
    {
     "name": "stdout",
     "output_type": "stream",
     "text": [
      "0     11.000000\n",
      "1      8.666667\n",
      "2      8.333333\n",
      "3      9.333333\n",
      "4      8.000000\n",
      "5      6.333333\n",
      "6      3.666667\n",
      "7      2.000000\n",
      "8      5.666667\n",
      "9      5.000000\n",
      "10     2.000000\n",
      "11     3.000000\n",
      "12     2.666667\n",
      "13     5.000000\n",
      "14     2.666667\n",
      "15     2.666667\n",
      "16     2.666667\n",
      "17     1.666667\n",
      "18     1.333333\n",
      "19     0.666667\n",
      "20     0.333333\n",
      "21     2.666667\n",
      "22     1.333333\n",
      "23     1.000000\n",
      "24     0.333333\n",
      "25     0.333333\n",
      "dtype: float64\n"
     ]
    }
   ],
   "source": [
    "avg_medal_count = olympic_medal[['gold', 'silver', 'bronze']].apply(np.mean, axis=1)\n",
    "print(avg_medal_count)"
   ]
  },
  {
   "cell_type": "code",
   "execution_count": 15,
   "metadata": {},
   "outputs": [
    {
     "name": "stdout",
     "output_type": "stream",
     "text": [
      "[83 64 65 62 55 49 32 21 37 31 19 22 20 28 18 16 15 11  8  5  4 10  6  5  2\n",
      "  1]\n"
     ]
    }
   ],
   "source": [
    "olympic_points = np.dot(olympic_medal[['gold', 'silver', 'bronze']], [4, 2, 1])\n",
    "print(olympic_points)"
   ]
  },
  {
   "cell_type": "code",
   "execution_count": null,
   "metadata": {
    "collapsed": true
   },
   "outputs": [],
   "source": []
  }
 ],
 "metadata": {
  "kernelspec": {
   "display_name": "Python 3",
   "language": "python",
   "name": "python3"
  },
  "language_info": {
   "codemirror_mode": {
    "name": "ipython",
    "version": 3
   },
   "file_extension": ".py",
   "mimetype": "text/x-python",
   "name": "python",
   "nbconvert_exporter": "python",
   "pygments_lexer": "ipython3",
   "version": "3.6.2"
  }
 },
 "nbformat": 4,
 "nbformat_minor": 2
}
